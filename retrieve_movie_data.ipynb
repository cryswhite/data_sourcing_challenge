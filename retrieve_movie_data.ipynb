{
 "cells": [
  {
   "cell_type": "markdown",
   "metadata": {},
   "source": [
    "### Import Required Libraries and Set Up Environment Variables"
   ]
  },
  {
   "cell_type": "code",
   "execution_count": 6,
   "metadata": {},
   "outputs": [],
   "source": [
    "# Dependencies\n",
    "import requests\n",
    "import time\n",
    "from dotenv import load_dotenv\n",
    "import os\n",
    "import pandas as pd\n",
    "import json"
   ]
  },
  {
   "cell_type": "code",
   "execution_count": 7,
   "metadata": {},
   "outputs": [],
   "source": [
    "# Set environment variables from the .env in the local environment\n",
    "load_dotenv()\n",
    "\n",
    "nyt_api_key = os.getenv(\"NYT_API_KEY\")\n",
    "tmdb_api_key = os.getenv(\"TMDB_API_KEY\")"
   ]
  },
  {
   "cell_type": "markdown",
   "metadata": {},
   "source": [
    "### Access the New York Times API"
   ]
  },
  {
   "cell_type": "code",
   "execution_count": 9,
   "metadata": {},
   "outputs": [],
   "source": [
    "# Set the base URL\n",
    "url = \"https://api.nytimes.com/svc/search/v2/articlesearch.json?\"\n",
    "\n",
    "# Filter for movie reviews with \"love\" in the headline\n",
    "# section_name should be \"Movies\"\n",
    "# type_of_material should be \"Review\"\n",
    "filter_query = 'section_name:\"Movies\" AND type_of_material:\"Review\" AND headline:\"love\"'\n",
    "\n",
    "# Use a sort filter, sort by newest\n",
    "sort = \"newest\"\n",
    "\n",
    "# Select the following fields to return:\n",
    "# headline, web_url, snippet, source, keywords, pub_date, byline, word_count\n",
    "field_list = \"headline,web_url,snippet,source,keywords,pub_date,byline,word_count\"\n",
    "\n",
    "# Search for reviews published between a begin and end date\n",
    "begin_date = \"20130101\"\n",
    "end_date = \"20230531\"\n",
    "\n",
    "# Build URL\n",
    "query_url = f\"{url}api-key={nyt_api_key}&q={filter_query}&fq={filter_query}&sort={sort}&begin_date={begin_date}&end_date={end_date}&fl={field_list}\"\n"
   ]
  },
  {
   "cell_type": "code",
   "execution_count": 10,
   "metadata": {},
   "outputs": [
    {
     "name": "stdout",
     "output_type": "stream",
     "text": [
      "Processing page 0 of results\n",
      "No results found for page 0\n"
     ]
    },
    {
     "ename": "NameError",
     "evalue": "name 'response_json' is not defined",
     "output_type": "error",
     "traceback": [
      "\u001b[0;31m---------------------------------------------------------------------------\u001b[0m",
      "\u001b[0;31mNameError\u001b[0m                                 Traceback (most recent call last)",
      "\u001b[1;32m/Users/cryst/Desktop/AI_home_work/data_sourcing_challenge/retrieve_movie_data.ipynb Cell 6\u001b[0m line \u001b[0;36m3\n\u001b[1;32m     <a href='vscode-notebook-cell:/Users/cryst/Desktop/AI_home_work/data_sourcing_challenge/retrieve_movie_data.ipynb#W5sZmlsZQ%3D%3D?line=29'>30</a>\u001b[0m         \u001b[39mprint\u001b[39m(\u001b[39mf\u001b[39m\u001b[39m\"\u001b[39m\u001b[39mNo results found for page \u001b[39m\u001b[39m{\u001b[39;00mpage\u001b[39m}\u001b[39;00m\u001b[39m\"\u001b[39m)\n\u001b[1;32m     <a href='vscode-notebook-cell:/Users/cryst/Desktop/AI_home_work/data_sourcing_challenge/retrieve_movie_data.ipynb#W5sZmlsZQ%3D%3D?line=30'>31</a>\u001b[0m         \u001b[39mbreak\u001b[39;00m\n\u001b[0;32m---> <a href='vscode-notebook-cell:/Users/cryst/Desktop/AI_home_work/data_sourcing_challenge/retrieve_movie_data.ipynb#W5sZmlsZQ%3D%3D?line=31'>32</a>\u001b[0m \u001b[39mfor\u001b[39;00m review \u001b[39min\u001b[39;00m response_json[\u001b[39m\"\u001b[39m\u001b[39mresponse\u001b[39m\u001b[39m\"\u001b[39m][\u001b[39m\"\u001b[39m\u001b[39mdocs\u001b[39m\u001b[39m\"\u001b[39m]:\n\u001b[1;32m     <a href='vscode-notebook-cell:/Users/cryst/Desktop/AI_home_work/data_sourcing_challenge/retrieve_movie_data.ipynb#W5sZmlsZQ%3D%3D?line=32'>33</a>\u001b[0m             reviews_list\u001b[39m.\u001b[39mappend(review)\n\u001b[1;32m     <a href='vscode-notebook-cell:/Users/cryst/Desktop/AI_home_work/data_sourcing_challenge/retrieve_movie_data.ipynb#W5sZmlsZQ%3D%3D?line=34'>35</a>\u001b[0m \u001b[39m# Print the page number that had no results then break from the loop\u001b[39;00m\n",
      "\u001b[0;31mNameError\u001b[0m: name 'response_json' is not defined"
     ]
    }
   ],
   "source": [
    "# Create an empty list to store the reviews\n",
    "reviews_list = []\n",
    "\n",
    "# loop through pages 0-19\n",
    "for page in range(20):\n",
    "    # create query with a page number\n",
    "    # API results show 10 articles at a time\n",
    "    query_url = f\"{url}api-key={nyt_api_key}&q={filter_query}&fq={filter_query}&sort={sort}&begin_date={begin_date}&end_date={end_date}&fl={field_list}&page={page}\"\n",
    "\n",
    "    # Make a \"GET\" request and retrieve the JSON\n",
    "    response = requests.get(query_url).json()\n",
    "\n",
    "    # Add a twelve second interval between queries to stay within API query limits\n",
    "    time.sleep(12)\n",
    "    # Check if there are results\n",
    "    print(f\"Processing page {page} of results\")\n",
    "\n",
    "    # If no results are found, print the page number and break from the loop\n",
    "    if not response[\"response\"][\"docs\"]:\n",
    "        print(f\"No results found for page {page}\")\n",
    "        break\n",
    "\n",
    "    # Try and save the reviews to the reviews_list\n",
    "    try:\n",
    "        # loop through the reviews[\"response\"][\"docs\"] and append each review to the list\n",
    "        for review in response[\"response\"][\"docs\"]:\n",
    "            reviews_list.append(review)\n",
    "    except KeyError:\n",
    "        # Print the page number that had no results then break from the loop\n",
    "        print(f\"No results found for page {page}\")\n",
    "        break\n",
    "for review in response_json[\"response\"][\"docs\"]:\n",
    "            reviews_list.append(review)\n",
    "\n",
    "# Print the page number that had no results then break from the loop\n",
    "print(f\"No results found for page {page}\")\n",
    "\n",
    "\n",
    "    "
   ]
  },
  {
   "cell_type": "code",
   "execution_count": 11,
   "metadata": {},
   "outputs": [
    {
     "name": "stdout",
     "output_type": "stream",
     "text": [
      "[]\n"
     ]
    }
   ],
   "source": [
    "# Preview the first 5 results in JSON format\n",
    "# Use json.dumps with argument indent=4 to format data\n",
    "from pandas import json_normalize\n",
    "\n",
    "preview = json.dumps(reviews_list[:5], indent=4)\n",
    "print(preview)\n"
   ]
  },
  {
   "cell_type": "code",
   "execution_count": 12,
   "metadata": {},
   "outputs": [],
   "source": [
    "# Convert reviews_list to a Pandas DataFrame using json_normalize()\n",
    "df = json_normalize(reviews_list)"
   ]
  },
  {
   "cell_type": "code",
   "execution_count": 13,
   "metadata": {},
   "outputs": [
    {
     "ename": "KeyError",
     "evalue": "'headline.main'",
     "output_type": "error",
     "traceback": [
      "\u001b[0;31m---------------------------------------------------------------------------\u001b[0m",
      "\u001b[0;31mKeyError\u001b[0m                                  Traceback (most recent call last)",
      "\u001b[1;32m/Users/cryst/Desktop/AI_home_work/data_sourcing_challenge/retrieve_movie_data.ipynb Cell 9\u001b[0m line \u001b[0;36m6\n\u001b[1;32m      <a href='vscode-notebook-cell:/Users/cryst/Desktop/AI_home_work/data_sourcing_challenge/retrieve_movie_data.ipynb#X11sZmlsZQ%3D%3D?line=0'>1</a>\u001b[0m \u001b[39m# Extract the title from the \"headline.main\" column and\u001b[39;00m\n\u001b[1;32m      <a href='vscode-notebook-cell:/Users/cryst/Desktop/AI_home_work/data_sourcing_challenge/retrieve_movie_data.ipynb#X11sZmlsZQ%3D%3D?line=1'>2</a>\u001b[0m \u001b[39m# save it to a new column \"title\"\u001b[39;00m\n\u001b[1;32m      <a href='vscode-notebook-cell:/Users/cryst/Desktop/AI_home_work/data_sourcing_challenge/retrieve_movie_data.ipynb#X11sZmlsZQ%3D%3D?line=2'>3</a>\u001b[0m \u001b[39m# Title is between unicode characters \\u2018 and \\u2019. \u001b[39;00m\n\u001b[1;32m      <a href='vscode-notebook-cell:/Users/cryst/Desktop/AI_home_work/data_sourcing_challenge/retrieve_movie_data.ipynb#X11sZmlsZQ%3D%3D?line=3'>4</a>\u001b[0m \u001b[39m# End string should include \" Review\" to avoid cutting title early\u001b[39;00m\n\u001b[0;32m----> <a href='vscode-notebook-cell:/Users/cryst/Desktop/AI_home_work/data_sourcing_challenge/retrieve_movie_data.ipynb#X11sZmlsZQ%3D%3D?line=5'>6</a>\u001b[0m df[\u001b[39m'\u001b[39m\u001b[39mtitle\u001b[39m\u001b[39m'\u001b[39m] \u001b[39m=\u001b[39m df[\u001b[39m'\u001b[39;49m\u001b[39mheadline.main\u001b[39;49m\u001b[39m'\u001b[39;49m]\u001b[39m.\u001b[39mapply(\u001b[39mlambda\u001b[39;00m st: st[st\u001b[39m.\u001b[39mfind(\u001b[39m\"\u001b[39m\u001b[39m\\u2018\u001b[39;00m\u001b[39m\"\u001b[39m)\u001b[39m+\u001b[39m\u001b[39m1\u001b[39m:st\u001b[39m.\u001b[39mfind(\u001b[39m\"\u001b[39m\u001b[39m\\u2019\u001b[39;00m\u001b[39m Review\u001b[39m\u001b[39m\"\u001b[39m)])\n",
      "File \u001b[0;32m~/anaconda3/envs/dev/lib/python3.10/site-packages/pandas/core/frame.py:3761\u001b[0m, in \u001b[0;36mDataFrame.__getitem__\u001b[0;34m(self, key)\u001b[0m\n\u001b[1;32m   3759\u001b[0m \u001b[39mif\u001b[39;00m \u001b[39mself\u001b[39m\u001b[39m.\u001b[39mcolumns\u001b[39m.\u001b[39mnlevels \u001b[39m>\u001b[39m \u001b[39m1\u001b[39m:\n\u001b[1;32m   3760\u001b[0m     \u001b[39mreturn\u001b[39;00m \u001b[39mself\u001b[39m\u001b[39m.\u001b[39m_getitem_multilevel(key)\n\u001b[0;32m-> 3761\u001b[0m indexer \u001b[39m=\u001b[39m \u001b[39mself\u001b[39;49m\u001b[39m.\u001b[39;49mcolumns\u001b[39m.\u001b[39;49mget_loc(key)\n\u001b[1;32m   3762\u001b[0m \u001b[39mif\u001b[39;00m is_integer(indexer):\n\u001b[1;32m   3763\u001b[0m     indexer \u001b[39m=\u001b[39m [indexer]\n",
      "File \u001b[0;32m~/anaconda3/envs/dev/lib/python3.10/site-packages/pandas/core/indexes/range.py:349\u001b[0m, in \u001b[0;36mRangeIndex.get_loc\u001b[0;34m(self, key)\u001b[0m\n\u001b[1;32m    347\u001b[0m         \u001b[39mraise\u001b[39;00m \u001b[39mKeyError\u001b[39;00m(key) \u001b[39mfrom\u001b[39;00m \u001b[39merr\u001b[39;00m\n\u001b[1;32m    348\u001b[0m \u001b[39mif\u001b[39;00m \u001b[39misinstance\u001b[39m(key, Hashable):\n\u001b[0;32m--> 349\u001b[0m     \u001b[39mraise\u001b[39;00m \u001b[39mKeyError\u001b[39;00m(key)\n\u001b[1;32m    350\u001b[0m \u001b[39mself\u001b[39m\u001b[39m.\u001b[39m_check_indexing_error(key)\n\u001b[1;32m    351\u001b[0m \u001b[39mraise\u001b[39;00m \u001b[39mKeyError\u001b[39;00m(key)\n",
      "\u001b[0;31mKeyError\u001b[0m: 'headline.main'"
     ]
    }
   ],
   "source": [
    "# Extract the title from the \"headline.main\" column and\n",
    "# save it to a new column \"title\"\n",
    "# Title is between unicode characters \\u2018 and \\u2019. \n",
    "# End string should include \" Review\" to avoid cutting title early\n",
    "\n",
    "df['title'] = df['headline.main'].apply(lambda st: st[st.find(\"\\u2018\")+1:st.find(\"\\u2019 Review\")])\n",
    "\n"
   ]
  },
  {
   "cell_type": "code",
   "execution_count": 14,
   "metadata": {},
   "outputs": [
    {
     "ename": "KeyError",
     "evalue": "'keywords'",
     "output_type": "error",
     "traceback": [
      "\u001b[0;31m---------------------------------------------------------------------------\u001b[0m",
      "\u001b[0;31mKeyError\u001b[0m                                  Traceback (most recent call last)",
      "\u001b[1;32m/Users/cryst/Desktop/AI_home_work/data_sourcing_challenge/retrieve_movie_data.ipynb Cell 10\u001b[0m line \u001b[0;36m1\n\u001b[1;32m     <a href='vscode-notebook-cell:/Users/cryst/Desktop/AI_home_work/data_sourcing_challenge/retrieve_movie_data.ipynb#X12sZmlsZQ%3D%3D?line=10'>11</a>\u001b[0m     \u001b[39mreturn\u001b[39;00m extracted_keywords   \n\u001b[1;32m     <a href='vscode-notebook-cell:/Users/cryst/Desktop/AI_home_work/data_sourcing_challenge/retrieve_movie_data.ipynb#X12sZmlsZQ%3D%3D?line=11'>12</a>\u001b[0m         \u001b[39m# Append the keyword item to the extracted_keywords list\u001b[39;00m\n\u001b[0;32m---> <a href='vscode-notebook-cell:/Users/cryst/Desktop/AI_home_work/data_sourcing_challenge/retrieve_movie_data.ipynb#X12sZmlsZQ%3D%3D?line=12'>13</a>\u001b[0m df[\u001b[39m'\u001b[39m\u001b[39mextracted_keywords\u001b[39m\u001b[39m'\u001b[39m] \u001b[39m=\u001b[39m df[\u001b[39m'\u001b[39;49m\u001b[39mkeywords\u001b[39;49m\u001b[39m'\u001b[39;49m]\u001b[39m.\u001b[39mapply(extract_keywords)\n\u001b[1;32m     <a href='vscode-notebook-cell:/Users/cryst/Desktop/AI_home_work/data_sourcing_challenge/retrieve_movie_data.ipynb#X12sZmlsZQ%3D%3D?line=16'>17</a>\u001b[0m \u001b[39m# Fix the \"keywords\" column by converting cells from a list to a string\u001b[39;00m\n\u001b[1;32m     <a href='vscode-notebook-cell:/Users/cryst/Desktop/AI_home_work/data_sourcing_challenge/retrieve_movie_data.ipynb#X12sZmlsZQ%3D%3D?line=17'>18</a>\u001b[0m df[\u001b[39m'\u001b[39m\u001b[39mkeywords\u001b[39m\u001b[39m'\u001b[39m] \u001b[39m=\u001b[39m df[\u001b[39m'\u001b[39m\u001b[39mextracted_keywords\u001b[39m\u001b[39m'\u001b[39m]\u001b[39m.\u001b[39mapply(\u001b[39m'\u001b[39m\u001b[39m, \u001b[39m\u001b[39m'\u001b[39m\u001b[39m.\u001b[39mjoin)\n",
      "File \u001b[0;32m~/anaconda3/envs/dev/lib/python3.10/site-packages/pandas/core/frame.py:3761\u001b[0m, in \u001b[0;36mDataFrame.__getitem__\u001b[0;34m(self, key)\u001b[0m\n\u001b[1;32m   3759\u001b[0m \u001b[39mif\u001b[39;00m \u001b[39mself\u001b[39m\u001b[39m.\u001b[39mcolumns\u001b[39m.\u001b[39mnlevels \u001b[39m>\u001b[39m \u001b[39m1\u001b[39m:\n\u001b[1;32m   3760\u001b[0m     \u001b[39mreturn\u001b[39;00m \u001b[39mself\u001b[39m\u001b[39m.\u001b[39m_getitem_multilevel(key)\n\u001b[0;32m-> 3761\u001b[0m indexer \u001b[39m=\u001b[39m \u001b[39mself\u001b[39;49m\u001b[39m.\u001b[39;49mcolumns\u001b[39m.\u001b[39;49mget_loc(key)\n\u001b[1;32m   3762\u001b[0m \u001b[39mif\u001b[39;00m is_integer(indexer):\n\u001b[1;32m   3763\u001b[0m     indexer \u001b[39m=\u001b[39m [indexer]\n",
      "File \u001b[0;32m~/anaconda3/envs/dev/lib/python3.10/site-packages/pandas/core/indexes/range.py:349\u001b[0m, in \u001b[0;36mRangeIndex.get_loc\u001b[0;34m(self, key)\u001b[0m\n\u001b[1;32m    347\u001b[0m         \u001b[39mraise\u001b[39;00m \u001b[39mKeyError\u001b[39;00m(key) \u001b[39mfrom\u001b[39;00m \u001b[39merr\u001b[39;00m\n\u001b[1;32m    348\u001b[0m \u001b[39mif\u001b[39;00m \u001b[39misinstance\u001b[39m(key, Hashable):\n\u001b[0;32m--> 349\u001b[0m     \u001b[39mraise\u001b[39;00m \u001b[39mKeyError\u001b[39;00m(key)\n\u001b[1;32m    350\u001b[0m \u001b[39mself\u001b[39m\u001b[39m.\u001b[39m_check_indexing_error(key)\n\u001b[1;32m    351\u001b[0m \u001b[39mraise\u001b[39;00m \u001b[39mKeyError\u001b[39;00m(key)\n",
      "\u001b[0;31mKeyError\u001b[0m: 'keywords'"
     ]
    }
   ],
   "source": [
    "# Extract 'name' and 'value' from items in \"keywords\" column\n",
    "\n",
    "        # Extract 'name' and 'value'\n",
    "def extract_keywords(keywords_list):\n",
    "    extracted_keywords = []\n",
    "    for item in keywords_list:\n",
    "        name = item.get('name', '')\n",
    "        value = item.get('value', '')\n",
    "        keyword_item = f\"{name}: {value}\"\n",
    "        extracted_keywords.append(keyword_item)\n",
    "    return extracted_keywords   \n",
    "        # Append the keyword item to the extracted_keywords list\n",
    "df['extracted_keywords'] = df['keywords'].apply(extract_keywords)\n",
    "\n",
    "\n",
    "\n",
    "# Fix the \"keywords\" column by converting cells from a list to a string\n",
    "df['keywords'] = df['extracted_keywords'].apply(', '.join)\n",
    "df.drop(columns=['extracted_keywords'], inplace=True)"
   ]
  },
  {
   "cell_type": "code",
   "execution_count": 15,
   "metadata": {
    "scrolled": true
   },
   "outputs": [
    {
     "ename": "KeyError",
     "evalue": "'title'",
     "output_type": "error",
     "traceback": [
      "\u001b[0;31m---------------------------------------------------------------------------\u001b[0m",
      "\u001b[0;31mKeyError\u001b[0m                                  Traceback (most recent call last)",
      "\u001b[1;32m/Users/cryst/Desktop/AI_home_work/data_sourcing_challenge/retrieve_movie_data.ipynb Cell 11\u001b[0m line \u001b[0;36m4\n\u001b[1;32m      <a href='vscode-notebook-cell:/Users/cryst/Desktop/AI_home_work/data_sourcing_challenge/retrieve_movie_data.ipynb#X13sZmlsZQ%3D%3D?line=0'>1</a>\u001b[0m \u001b[39m# Create a list from the \"title\" column using to_list()\u001b[39;00m\n\u001b[1;32m      <a href='vscode-notebook-cell:/Users/cryst/Desktop/AI_home_work/data_sourcing_challenge/retrieve_movie_data.ipynb#X13sZmlsZQ%3D%3D?line=1'>2</a>\u001b[0m \u001b[39m# These titles will be used in the query for The Movie Database\u001b[39;00m\n\u001b[0;32m----> <a href='vscode-notebook-cell:/Users/cryst/Desktop/AI_home_work/data_sourcing_challenge/retrieve_movie_data.ipynb#X13sZmlsZQ%3D%3D?line=3'>4</a>\u001b[0m titles \u001b[39m=\u001b[39m df[\u001b[39m'\u001b[39;49m\u001b[39mtitle\u001b[39;49m\u001b[39m'\u001b[39;49m]\u001b[39m.\u001b[39mto_list()\n",
      "File \u001b[0;32m~/anaconda3/envs/dev/lib/python3.10/site-packages/pandas/core/frame.py:3761\u001b[0m, in \u001b[0;36mDataFrame.__getitem__\u001b[0;34m(self, key)\u001b[0m\n\u001b[1;32m   3759\u001b[0m \u001b[39mif\u001b[39;00m \u001b[39mself\u001b[39m\u001b[39m.\u001b[39mcolumns\u001b[39m.\u001b[39mnlevels \u001b[39m>\u001b[39m \u001b[39m1\u001b[39m:\n\u001b[1;32m   3760\u001b[0m     \u001b[39mreturn\u001b[39;00m \u001b[39mself\u001b[39m\u001b[39m.\u001b[39m_getitem_multilevel(key)\n\u001b[0;32m-> 3761\u001b[0m indexer \u001b[39m=\u001b[39m \u001b[39mself\u001b[39;49m\u001b[39m.\u001b[39;49mcolumns\u001b[39m.\u001b[39;49mget_loc(key)\n\u001b[1;32m   3762\u001b[0m \u001b[39mif\u001b[39;00m is_integer(indexer):\n\u001b[1;32m   3763\u001b[0m     indexer \u001b[39m=\u001b[39m [indexer]\n",
      "File \u001b[0;32m~/anaconda3/envs/dev/lib/python3.10/site-packages/pandas/core/indexes/range.py:349\u001b[0m, in \u001b[0;36mRangeIndex.get_loc\u001b[0;34m(self, key)\u001b[0m\n\u001b[1;32m    347\u001b[0m         \u001b[39mraise\u001b[39;00m \u001b[39mKeyError\u001b[39;00m(key) \u001b[39mfrom\u001b[39;00m \u001b[39merr\u001b[39;00m\n\u001b[1;32m    348\u001b[0m \u001b[39mif\u001b[39;00m \u001b[39misinstance\u001b[39m(key, Hashable):\n\u001b[0;32m--> 349\u001b[0m     \u001b[39mraise\u001b[39;00m \u001b[39mKeyError\u001b[39;00m(key)\n\u001b[1;32m    350\u001b[0m \u001b[39mself\u001b[39m\u001b[39m.\u001b[39m_check_indexing_error(key)\n\u001b[1;32m    351\u001b[0m \u001b[39mraise\u001b[39;00m \u001b[39mKeyError\u001b[39;00m(key)\n",
      "\u001b[0;31mKeyError\u001b[0m: 'title'"
     ]
    }
   ],
   "source": [
    "# Create a list from the \"title\" column using to_list()\n",
    "# These titles will be used in the query for The Movie Database\n",
    "\n",
    "titles = df['title'].to_list()"
   ]
  },
  {
   "cell_type": "markdown",
   "metadata": {},
   "source": [
    "### Access The Movie Database API"
   ]
  },
  {
   "cell_type": "code",
   "execution_count": 16,
   "metadata": {},
   "outputs": [],
   "source": [
    "# Prepare The Movie Database query\n",
    "url = \"https://api.themoviedb.org/3/search/movie?query=\"\n",
    "tmdb_key_string = \"&api_key=\" + tmdb_api_key\n",
    "\n",
    "movie_title = \"The Matrix\"\n",
    "query_url = f\"https://api.themoviedb.org/3/search/movie?query={movie_title}{tmdb_key_string}\"\n"
   ]
  },
  {
   "cell_type": "code",
   "execution_count": 19,
   "metadata": {},
   "outputs": [
    {
     "ename": "NameError",
     "evalue": "name 'titles' is not defined",
     "output_type": "error",
     "traceback": [
      "\u001b[0;31m---------------------------------------------------------------------------\u001b[0m",
      "\u001b[0;31mNameError\u001b[0m                                 Traceback (most recent call last)",
      "\u001b[1;32m/Users/cryst/Desktop/AI_home_work/data_sourcing_challenge/retrieve_movie_data.ipynb Cell 14\u001b[0m line \u001b[0;36m9\n\u001b[1;32m      <a href='vscode-notebook-cell:/Users/cryst/Desktop/AI_home_work/data_sourcing_challenge/retrieve_movie_data.ipynb#X16sZmlsZQ%3D%3D?line=5'>6</a>\u001b[0m request_counter \u001b[39m=\u001b[39m \u001b[39m1\u001b[39m\n\u001b[1;32m      <a href='vscode-notebook-cell:/Users/cryst/Desktop/AI_home_work/data_sourcing_challenge/retrieve_movie_data.ipynb#X16sZmlsZQ%3D%3D?line=7'>8</a>\u001b[0m \u001b[39m# Loop through the titles\u001b[39;00m\n\u001b[0;32m----> <a href='vscode-notebook-cell:/Users/cryst/Desktop/AI_home_work/data_sourcing_challenge/retrieve_movie_data.ipynb#X16sZmlsZQ%3D%3D?line=8'>9</a>\u001b[0m \u001b[39mfor\u001b[39;00m title \u001b[39min\u001b[39;00m titles:\n\u001b[1;32m     <a href='vscode-notebook-cell:/Users/cryst/Desktop/AI_home_work/data_sourcing_challenge/retrieve_movie_data.ipynb#X16sZmlsZQ%3D%3D?line=9'>10</a>\u001b[0m     \u001b[39m# Check if we need to sleep before making a request\u001b[39;00m\n\u001b[1;32m     <a href='vscode-notebook-cell:/Users/cryst/Desktop/AI_home_work/data_sourcing_challenge/retrieve_movie_data.ipynb#X16sZmlsZQ%3D%3D?line=10'>11</a>\u001b[0m     \u001b[39mif\u001b[39;00m request_counter \u001b[39m%\u001b[39m \u001b[39m50\u001b[39m \u001b[39m==\u001b[39m \u001b[39m0\u001b[39m:\n\u001b[1;32m     <a href='vscode-notebook-cell:/Users/cryst/Desktop/AI_home_work/data_sourcing_challenge/retrieve_movie_data.ipynb#X16sZmlsZQ%3D%3D?line=11'>12</a>\u001b[0m         \u001b[39mprint\u001b[39m(\u001b[39m\"\u001b[39m\u001b[39mApplication is sleeping...\u001b[39m\u001b[39m\"\u001b[39m)\n",
      "\u001b[0;31mNameError\u001b[0m: name 'titles' is not defined"
     ]
    }
   ],
   "source": [
    "# Create an empty list to store the results\n",
    "tmdb_movies_list = []\n",
    "\n",
    "# Create a request counter to sleep the requests after a multiple\n",
    "# of 50 requests\n",
    "request_counter = 1\n",
    "\n",
    "# Loop through the titles\n",
    "for title in titles:\n",
    "    # Check if we need to sleep before making a request\n",
    "    if request_counter % 50 == 0:\n",
    "        print(\"Application is sleeping...\")\n",
    "        time.sleep(1)\n",
    "    # Add 1 to the request counter\n",
    "    request_counter += 1\n",
    "    \n",
    "    # Perform a \"GET\" request for The Movie Database\n",
    "    query_url = f\"https://api.themoviedb.org/3/search/movie?query={title}&api_key={tmdb_api_key}\"\n",
    "    response = requests.get(query_url)\n",
    "    movie_data = response.json()\n",
    "    \n",
    "\n",
    "    # Include a try clause to search for the full movie details.\n",
    "\n",
    "    # Use the except clause to print out a statement if a movie\n",
    "    # is not found.\n",
    "    try:\n",
    "   \n",
    "        # Get movie id\n",
    "        movie_id = movie_data[\"results\"][0][\"id\"]\n",
    "\n",
    "        # Make a request for a the full movie details\n",
    "        movie_details_url = f\"https://api.themoviedb.org/3/movie/{movie_id}?api_key={tmdb_api_key}\"\n",
    "        response_details = requests.get(movie_details_url)\n",
    "        movie_details = response_details.json()\n",
    "\n",
    "        # Execute \"GET\" request with url\n",
    "        title = movie_details['title']\n",
    "        \n",
    "        # Extract the genre names into a list\n",
    "        genres = [genre['name'] for genre in movie_details['genres']]\n",
    "\n",
    "        # Extract the spoken_languages' English name into a list\n",
    "        spoken_languages = [lang['english_name'] for lang in movie_details['spoken_languages']]\n",
    "    \n",
    "\n",
    "        # Extract the production_countries' name into a list\n",
    "        production_countries = [country['name'] for country in movie_details['production_countries']]\n",
    "\n",
    "        # Add the relevant data to a dictionary and\n",
    "        # append it to the tmdb_movies_list list\n",
    "        movie_info = {\n",
    "            'title': title,\n",
    "            'genres': genres,\n",
    "            'spoken_languages': spoken_languages,\n",
    "            'production_countries': production_countries\n",
    "        }\n",
    "        \n",
    "        tmdb_movies_list.append(movie_info)\n",
    "        \n",
    "        # Print out the title that was found\n",
    "        print(f\"Title '{title}' found.\")\n",
    "    except (IndexError, KeyError):\n",
    "        print(f\"Title '{title}' not found.\")"
   ]
  },
  {
   "cell_type": "code",
   "execution_count": 20,
   "metadata": {},
   "outputs": [
    {
     "name": "stdout",
     "output_type": "stream",
     "text": [
      "[]\n"
     ]
    }
   ],
   "source": [
    "# Preview the first 5 results in JSON format\n",
    "# Use json.dumps with argument indent=4 to format data\n",
    "from pandas import json_normalize\n",
    "\n",
    "preview = json.dumps(reviews_list[:5], indent=4)\n",
    "print(preview)"
   ]
  },
  {
   "cell_type": "code",
   "execution_count": 21,
   "metadata": {},
   "outputs": [],
   "source": [
    "# Convert the results to a DataFrame\n",
    "df = json_normalize(reviews_list)"
   ]
  },
  {
   "cell_type": "markdown",
   "metadata": {},
   "source": [
    "### Merge and Clean the Data for Export"
   ]
  },
  {
   "cell_type": "code",
   "execution_count": 24,
   "metadata": {
    "scrolled": true
   },
   "outputs": [
    {
     "ename": "NameError",
     "evalue": "name 'nyt_reviews_df' is not defined",
     "output_type": "error",
     "traceback": [
      "\u001b[0;31m---------------------------------------------------------------------------\u001b[0m",
      "\u001b[0;31mNameError\u001b[0m                                 Traceback (most recent call last)",
      "\u001b[1;32m/Users/cryst/Desktop/AI_home_work/data_sourcing_challenge/retrieve_movie_data.ipynb Cell 18\u001b[0m line \u001b[0;36m2\n\u001b[1;32m      <a href='vscode-notebook-cell:/Users/cryst/Desktop/AI_home_work/data_sourcing_challenge/retrieve_movie_data.ipynb#X23sZmlsZQ%3D%3D?line=0'>1</a>\u001b[0m \u001b[39m# Merge the New York Times reviews and TMDB DataFrames on title\u001b[39;00m\n\u001b[0;32m----> <a href='vscode-notebook-cell:/Users/cryst/Desktop/AI_home_work/data_sourcing_challenge/retrieve_movie_data.ipynb#X23sZmlsZQ%3D%3D?line=1'>2</a>\u001b[0m merged_df \u001b[39m=\u001b[39m nyt_reviews_df\u001b[39m.\u001b[39mmerge(tmdb_df, on\u001b[39m=\u001b[39m\u001b[39m'\u001b[39m\u001b[39mtitle\u001b[39m\u001b[39m'\u001b[39m, how\u001b[39m=\u001b[39m\u001b[39m'\u001b[39m\u001b[39minner\u001b[39m\u001b[39m'\u001b[39m)\n",
      "\u001b[0;31mNameError\u001b[0m: name 'nyt_reviews_df' is not defined"
     ]
    }
   ],
   "source": [
    "# Merge the New York Times reviews and TMDB DataFrames on title\n",
    "merged_df = nyt_reviews_df.merge(tmdb_df, on='title', how='inner')\n",
    "\n"
   ]
  },
  {
   "cell_type": "code",
   "execution_count": 23,
   "metadata": {},
   "outputs": [
    {
     "ename": "NameError",
     "evalue": "name 'merged_df' is not defined",
     "output_type": "error",
     "traceback": [
      "\u001b[0;31m---------------------------------------------------------------------------\u001b[0m",
      "\u001b[0;31mNameError\u001b[0m                                 Traceback (most recent call last)",
      "\u001b[1;32m/Users/cryst/Desktop/AI_home_work/data_sourcing_challenge/retrieve_movie_data.ipynb Cell 19\u001b[0m line \u001b[0;36m1\n\u001b[1;32m     <a href='vscode-notebook-cell:/Users/cryst/Desktop/AI_home_work/data_sourcing_challenge/retrieve_movie_data.ipynb#X24sZmlsZQ%3D%3D?line=11'>12</a>\u001b[0m \u001b[39mfor\u001b[39;00m column \u001b[39min\u001b[39;00m columns_to_fix:\n\u001b[1;32m     <a href='vscode-notebook-cell:/Users/cryst/Desktop/AI_home_work/data_sourcing_challenge/retrieve_movie_data.ipynb#X24sZmlsZQ%3D%3D?line=12'>13</a>\u001b[0m     \u001b[39m# Loop through the list of characters to remove\u001b[39;00m\n\u001b[1;32m     <a href='vscode-notebook-cell:/Users/cryst/Desktop/AI_home_work/data_sourcing_challenge/retrieve_movie_data.ipynb#X24sZmlsZQ%3D%3D?line=13'>14</a>\u001b[0m     \u001b[39mfor\u001b[39;00m character \u001b[39min\u001b[39;00m characters_to_remove:\n\u001b[1;32m     <a href='vscode-notebook-cell:/Users/cryst/Desktop/AI_home_work/data_sourcing_challenge/retrieve_movie_data.ipynb#X24sZmlsZQ%3D%3D?line=14'>15</a>\u001b[0m         \u001b[39m# Replace the character with an empty string\u001b[39;00m\n\u001b[0;32m---> <a href='vscode-notebook-cell:/Users/cryst/Desktop/AI_home_work/data_sourcing_challenge/retrieve_movie_data.ipynb#X24sZmlsZQ%3D%3D?line=15'>16</a>\u001b[0m         merged_df[column] \u001b[39m=\u001b[39m merged_df[column]\u001b[39m.\u001b[39mstr\u001b[39m.\u001b[39mreplace(character, \u001b[39m\"\u001b[39m\u001b[39m\"\u001b[39m)\n\u001b[1;32m     <a href='vscode-notebook-cell:/Users/cryst/Desktop/AI_home_work/data_sourcing_challenge/retrieve_movie_data.ipynb#X24sZmlsZQ%3D%3D?line=18'>19</a>\u001b[0m     \u001b[39m# Convert the column to type 'str'\u001b[39;00m\n\u001b[1;32m     <a href='vscode-notebook-cell:/Users/cryst/Desktop/AI_home_work/data_sourcing_challenge/retrieve_movie_data.ipynb#X24sZmlsZQ%3D%3D?line=19'>20</a>\u001b[0m     merged_df[column] \u001b[39m=\u001b[39m merged_df[column]\u001b[39m.\u001b[39mastype(\u001b[39m'\u001b[39m\u001b[39mstr\u001b[39m\u001b[39m'\u001b[39m)\n",
      "\u001b[0;31mNameError\u001b[0m: name 'merged_df' is not defined"
     ]
    }
   ],
   "source": [
    "# Remove list brackets and quotation marks on the columns containing lists\n",
    "# Create a list of the columns that need fixing\n",
    "columns_to_fix = [\"genres\", \"production_countries\", \"spoken_languages\"]\n",
    "\n",
    "\n",
    "\n",
    "# Create a list of characters to remove\n",
    "characters_to_remove = [\"[\", \"]\", \"'\"]\n",
    "\n",
    "\n",
    "# Loop through the list of columns to fix\n",
    "for column in columns_to_fix:\n",
    "    # Loop through the list of characters to remove\n",
    "    for character in characters_to_remove:\n",
    "        # Replace the character with an empty string\n",
    "        merged_df[column] = merged_df[column].str.replace(character, \"\")\n",
    "\n",
    "\n",
    "    # Convert the column to type 'str'\n",
    "    merged_df[column] = merged_df[column].astype('str')\n",
    "    \n",
    "\n",
    "    # Loop through characters to remove\n",
    "    for character in characters_to_remove:\n",
    "        # Replace the character with an empty string\n",
    "        merged_df[column] = merged_df[column].str.replace(character, \"\")\n",
    "        \n",
    "\n",
    "# Display the fixed DataFrame\n",
    "merged_df.head()\n",
    "\n"
   ]
  },
  {
   "cell_type": "code",
   "execution_count": 25,
   "metadata": {},
   "outputs": [
    {
     "ename": "NameError",
     "evalue": "name 'merged_df' is not defined",
     "output_type": "error",
     "traceback": [
      "\u001b[0;31m---------------------------------------------------------------------------\u001b[0m",
      "\u001b[0;31mNameError\u001b[0m                                 Traceback (most recent call last)",
      "\u001b[1;32m/Users/cryst/Desktop/AI_home_work/data_sourcing_challenge/retrieve_movie_data.ipynb Cell 20\u001b[0m line \u001b[0;36m2\n\u001b[1;32m      <a href='vscode-notebook-cell:/Users/cryst/Desktop/AI_home_work/data_sourcing_challenge/retrieve_movie_data.ipynb#X25sZmlsZQ%3D%3D?line=0'>1</a>\u001b[0m \u001b[39m# Drop \"byline.person\" column\u001b[39;00m\n\u001b[0;32m----> <a href='vscode-notebook-cell:/Users/cryst/Desktop/AI_home_work/data_sourcing_challenge/retrieve_movie_data.ipynb#X25sZmlsZQ%3D%3D?line=1'>2</a>\u001b[0m merged_df\u001b[39m.\u001b[39mdrop(columns\u001b[39m=\u001b[39m[\u001b[39m'\u001b[39m\u001b[39mbyline.person\u001b[39m\u001b[39m'\u001b[39m], inplace\u001b[39m=\u001b[39m\u001b[39mTrue\u001b[39;00m)\n",
      "\u001b[0;31mNameError\u001b[0m: name 'merged_df' is not defined"
     ]
    }
   ],
   "source": [
    "# Drop \"byline.person\" column\n",
    "merged_df.drop(columns=['byline.person'], inplace=True)\n",
    "\n"
   ]
  },
  {
   "cell_type": "code",
   "execution_count": 26,
   "metadata": {},
   "outputs": [
    {
     "ename": "NameError",
     "evalue": "name 'merged_df' is not defined",
     "output_type": "error",
     "traceback": [
      "\u001b[0;31m---------------------------------------------------------------------------\u001b[0m",
      "\u001b[0;31mNameError\u001b[0m                                 Traceback (most recent call last)",
      "\u001b[1;32m/Users/cryst/Desktop/AI_home_work/data_sourcing_challenge/retrieve_movie_data.ipynb Cell 21\u001b[0m line \u001b[0;36m2\n\u001b[1;32m      <a href='vscode-notebook-cell:/Users/cryst/Desktop/AI_home_work/data_sourcing_challenge/retrieve_movie_data.ipynb#X26sZmlsZQ%3D%3D?line=0'>1</a>\u001b[0m \u001b[39m# Delete duplicate rows and reset index\u001b[39;00m\n\u001b[0;32m----> <a href='vscode-notebook-cell:/Users/cryst/Desktop/AI_home_work/data_sourcing_challenge/retrieve_movie_data.ipynb#X26sZmlsZQ%3D%3D?line=1'>2</a>\u001b[0m merged_df\u001b[39m.\u001b[39mdrop_duplicates(subset\u001b[39m=\u001b[39m[\u001b[39m'\u001b[39m\u001b[39mtitle\u001b[39m\u001b[39m'\u001b[39m], inplace\u001b[39m=\u001b[39m\u001b[39mTrue\u001b[39;00m)\n\u001b[1;32m      <a href='vscode-notebook-cell:/Users/cryst/Desktop/AI_home_work/data_sourcing_challenge/retrieve_movie_data.ipynb#X26sZmlsZQ%3D%3D?line=2'>3</a>\u001b[0m merged_df\u001b[39m.\u001b[39mreset_index(drop\u001b[39m=\u001b[39m\u001b[39mTrue\u001b[39;00m, inplace\u001b[39m=\u001b[39m\u001b[39mTrue\u001b[39;00m)\n",
      "\u001b[0;31mNameError\u001b[0m: name 'merged_df' is not defined"
     ]
    }
   ],
   "source": [
    "# Delete duplicate rows and reset index\n",
    "merged_df.drop_duplicates(subset=['title'], inplace=True)\n",
    "merged_df.reset_index(drop=True, inplace=True)\n",
    "\n"
   ]
  },
  {
   "cell_type": "code",
   "execution_count": 19,
   "metadata": {},
   "outputs": [],
   "source": [
    "# Export data to CSV without the index\n",
    "merged_df.to_csv('output/nyt_movie_reviews.csv', index=False)\n",
    "\n"
   ]
  },
  {
   "cell_type": "code",
   "execution_count": null,
   "metadata": {},
   "outputs": [],
   "source": []
  }
 ],
 "metadata": {
  "kernelspec": {
   "display_name": "Python 3 (ipykernel)",
   "language": "python",
   "name": "python3"
  },
  "language_info": {
   "codemirror_mode": {
    "name": "ipython",
    "version": 3
   },
   "file_extension": ".py",
   "mimetype": "text/x-python",
   "name": "python",
   "nbconvert_exporter": "python",
   "pygments_lexer": "ipython3",
   "version": "3.10.13"
  },
  "varInspector": {
   "cols": {
    "lenName": 16,
    "lenType": 16,
    "lenVar": 40
   },
   "kernels_config": {
    "python": {
     "delete_cmd_postfix": "",
     "delete_cmd_prefix": "del ",
     "library": "var_list.py",
     "varRefreshCmd": "print(var_dic_list())"
    },
    "r": {
     "delete_cmd_postfix": ") ",
     "delete_cmd_prefix": "rm(",
     "library": "var_list.r",
     "varRefreshCmd": "cat(var_dic_list()) "
    }
   },
   "types_to_exclude": [
    "module",
    "function",
    "builtin_function_or_method",
    "instance",
    "_Feature"
   ],
   "window_display": false
  }
 },
 "nbformat": 4,
 "nbformat_minor": 2
}
